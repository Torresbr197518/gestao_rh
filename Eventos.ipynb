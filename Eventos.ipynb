{
  "nbformat": 4,
  "nbformat_minor": 0,
  "metadata": {
    "colab": {
      "name": "Eventos.ipynb",
      "provenance": [],
      "collapsed_sections": [],
      "mount_file_id": "1NNjYigwFQDFrcjYQCEXd2c3Q0LLQViDe",
      "authorship_tag": "ABX9TyMX6JMYC1r3+HXpR1q1pVJ1",
      "include_colab_link": true
    },
    "kernelspec": {
      "name": "python3",
      "display_name": "Python 3"
    },
    "language_info": {
      "name": "python"
    }
  },
  "cells": [
    {
      "cell_type": "markdown",
      "metadata": {
        "id": "view-in-github",
        "colab_type": "text"
      },
      "source": [
        "<a href=\"https://colab.research.google.com/github/Torresbr197518/gestao_rh/blob/master/Eventos.ipynb\" target=\"_parent\"><img src=\"https://colab.research.google.com/assets/colab-badge.svg\" alt=\"Open In Colab\"/></a>"
      ]
    },
    {
      "cell_type": "code",
      "metadata": {
        "id": "wHTs_QfW0qno"
      },
      "source": [
        "import requests\n",
        "import pandas as pd\n",
        "from bs4 import BeautifulSoup\n",
        "import time\n",
        "import numpy as np\n",
        "from datetime import datetime\n"
      ],
      "execution_count": 1,
      "outputs": []
    },
    {
      "cell_type": "code",
      "metadata": {
        "colab": {
          "base_uri": "https://localhost:8080/",
          "height": 162
        },
        "id": "S0wkLnYXjK7F",
        "outputId": "072df7f6-0fdb-46dc-da13-027de524b10d"
      },
      "source": [
        ""
      ],
      "execution_count": 75,
      "outputs": [
        {
          "output_type": "error",
          "ename": "AttributeError",
          "evalue": "ignored",
          "traceback": [
            "\u001b[0;31m---------------------------------------------------------------------------\u001b[0m",
            "\u001b[0;31mAttributeError\u001b[0m                            Traceback (most recent call last)",
            "\u001b[0;32m<ipython-input-75-874dd7698738>\u001b[0m in \u001b[0;36m<module>\u001b[0;34m()\u001b[0m\n\u001b[0;32m----> 1\u001b[0;31m \u001b[0mevento\u001b[0m\u001b[0;34m.\u001b[0m\u001b[0mlist_leagues\u001b[0m\u001b[0;34m.\u001b[0m\u001b[0mappend\u001b[0m\u001b[0;34m(\u001b[0m\u001b[0mset\u001b[0m\u001b[0;34m(\u001b[0m\u001b[0mevento\u001b[0m\u001b[0;34m.\u001b[0m\u001b[0mevents\u001b[0m\u001b[0;34m[\u001b[0m\u001b[0mevento\u001b[0m\u001b[0;34m.\u001b[0m\u001b[0mevents\u001b[0m\u001b[0;34m[\u001b[0m\u001b[0;34m'status'\u001b[0m\u001b[0;34m]\u001b[0m\u001b[0;34m!=\u001b[0m\u001b[0;34m'Full'\u001b[0m\u001b[0;34m]\u001b[0m\u001b[0;34m[\u001b[0m\u001b[0;34m'leagueid'\u001b[0m\u001b[0;34m]\u001b[0m\u001b[0;34m)\u001b[0m\u001b[0;34m)\u001b[0m\u001b[0;34m\u001b[0m\u001b[0;34m\u001b[0m\u001b[0m\n\u001b[0m",
            "\u001b[0;31mAttributeError\u001b[0m: 'set' object has no attribute 'append'"
          ]
        }
      ]
    },
    {
      "cell_type": "code",
      "metadata": {
        "id": "y4wMau6Hjl1-"
      },
      "source": [
        "lista= evento.events[evento.events['status']!='Full']['leagueid'].values\n",
        "#type(evento.list_leagues)"
      ],
      "execution_count": 90,
      "outputs": []
    },
    {
      "cell_type": "code",
      "metadata": {
        "id": "Mo8dHJq1jl_G"
      },
      "source": [
        "evento.list_leagues=set(lista)"
      ],
      "execution_count": 94,
      "outputs": []
    },
    {
      "cell_type": "code",
      "metadata": {
        "colab": {
          "base_uri": "https://localhost:8080/"
        },
        "id": "Wa8mnJVrpdfQ",
        "outputId": "60f6eade-f253-4f11-a6ad-64d5ef42b3f7"
      },
      "source": [
        "cd /content/drive/MyDrive"
      ],
      "execution_count": 2,
      "outputs": [
        {
          "output_type": "stream",
          "name": "stdout",
          "text": [
            "/content/drive/MyDrive\n"
          ]
        }
      ]
    },
    {
      "cell_type": "code",
      "metadata": {
        "id": "4-7PBBuQxm9U"
      },
      "source": [
        "class Events:\n",
        "  def __init__(self):\n",
        "    self.url = 'https://www.totalcorner.com/match/today'\n",
        "    self.load()\n",
        "    self.scrap()\n",
        "    self.get_leagues()\n",
        "\n",
        "  def scrap (self):\n",
        "     res = requests.get(self.url)  \n",
        "     self.soup = BeautifulSoup(res.content,'lxml')\n",
        "\n",
        "  def get_leagues (self) :\n",
        "      self.list_leagues = []\n",
        "      for c in self.soup.find_all('a'):\n",
        "          #print (c['href'].split(\"/\").str.contains('view', case = False))\n",
        "          ref = 'league/view/' in c['href']\n",
        "          if ref==True:\n",
        "              self.list_leagues.append(int(c['href'].strip(\"league/view/\")))  \n",
        "\n",
        "      self.list_leagues = set(self.list_leagues)\n",
        "\n",
        "  def get_events(self, rows, leagueid, page):\n",
        "        league = 'https://www.totalcorner.com/league/view/'\n",
        "        url = '{}{}/page:{}'.format(league,leagueid, page)\n",
        "        res = requests.get(url)\n",
        "        soup = BeautifulSoup(res.content,'lxml')\n",
        "        tables = soup.find_all('tr')\n",
        "        print (url)\n",
        "        for table in tables[1:]:\n",
        "          line = table.find_all('td')\n",
        "          x, err = self.preparar(8,2021 , leagueid, line, rows)\n",
        "          if err==True:\n",
        "            break\n",
        "        #self.save()\n",
        "        time.sleep(0.51)    \n",
        "\n",
        "  def transformDate(self, ano, date):\n",
        "    err = False\n",
        "    try:  \n",
        "      dia = int(date[3:5].strip())\n",
        "      mes = int(date[:2].strip())\n",
        "      if mes ==12 :\n",
        "        ano = ano - 1\n",
        "      hora = int(date[6:8].strip())\n",
        "      min = int(date[9:11].strip())\n",
        "      date = datetime(ano,mes,dia,hora,min)\n",
        "    except:\n",
        "      print ('Erro de conversão :'+date)\n",
        "      err = True\n",
        "    return date, err\n",
        "\n",
        "  def preparar (self, mes_inicio,ano,leagueid, row, rows):\n",
        "    err=False\n",
        "    if row[0].text.find('/')!=-1: \n",
        "      date, err = self.transformDate(ano,row[0].text)\n",
        "      status = row[1].text.strip()\n",
        "      eventid = row[14].find_all('a')[1]['href'].replace('/match/odds-handicap/', '')\n",
        "      if len(self.events[(self.events['eventid']==eventid) & (self.events['status']!='Full')])==0:\n",
        "          home = row[2].text.strip()\n",
        "          away = row[4].text.strip()\n",
        "          score = row[3].text.strip().split(' - ')\n",
        "          homescore = score[0].strip()\n",
        "          awayscore = score[1].strip()\n",
        "          corner = row[6].text.strip().split(' - ')\n",
        "          homecorner = corner[0].strip()\n",
        "          awaycorner = corner[1].strip()\n",
        "          halfcorner = row[7].text.strip().split(' - ')\n",
        "          homehalfcorner = halfcorner[0].strip()\n",
        "          awayhalfcorner = halfcorner[1].strip()\n",
        "          dados = [date, eventid, status,home, away, homescore, awayscore, homecorner, awaycorner,homehalfcorner,awayhalfcorner, leagueid]\n",
        "          rows = rows.append(dados)\n",
        "          print(dados)\n",
        "    return rows, err  \n",
        "\n",
        "  def get_list(self):\n",
        "    for leagueid in self.list_leagues:\n",
        "      rows = []\n",
        "      for page in range (1,5):\n",
        "        ano = 2021\n",
        "        mes_inicio = 10\n",
        "        self.get_events(rows, leagueid, page)\n",
        "      \n",
        "      columns = ['date', 'eventid', 'status','home', 'away','homescore', 'awayscore', 'homecorner', 'awaycorner','homehalfcorner','awayhalfcorner', 'leagueid']\n",
        "\n",
        "      self.events = self.events.append(pd.DataFrame(rows,columns = columns), ignore_index=False)\n",
        "\n",
        "      self.events = self.events.drop_duplicates(subset=['eventid'], keep='last')\n",
        "    #print(rows)\n",
        "    self.save()\n",
        "\n",
        "  def load (self):\n",
        "    self.events =pd.read_excel('eventos.xlsx')\n",
        "\n",
        "  def save (self):\n",
        "    self.events.to_excel('eventos.xlsx')"
      ],
      "execution_count": 194,
      "outputs": []
    },
    {
      "cell_type": "code",
      "metadata": {
        "id": "F-CFe9S9495u"
      },
      "source": [
        "evento = Events()"
      ],
      "execution_count": 195,
      "outputs": []
    },
    {
      "cell_type": "code",
      "metadata": {
        "id": "TwSFlOQqfACd"
      },
      "source": [
        "evento.events = evento.events.drop_duplicates(subset=['eventid'], keep='last')"
      ],
      "execution_count": 198,
      "outputs": []
    },
    {
      "cell_type": "code",
      "metadata": {
        "id": "5vmdoNU7gee0"
      },
      "source": [
        "evento.get_list()"
      ],
      "execution_count": null,
      "outputs": []
    },
    {
      "cell_type": "code",
      "metadata": {
        "id": "f1lNy-qifSWE"
      },
      "source": [
        "evento.get_leagues()"
      ],
      "execution_count": 112,
      "outputs": []
    },
    {
      "cell_type": "code",
      "metadata": {
        "id": "wHbUFkprfWkY"
      },
      "source": [
        "evento.get_list()"
      ],
      "execution_count": null,
      "outputs": []
    },
    {
      "cell_type": "code",
      "metadata": {
        "id": "LHLRF4NDJxaY"
      },
      "source": [
        ""
      ],
      "execution_count": null,
      "outputs": []
    },
    {
      "cell_type": "code",
      "metadata": {
        "colab": {
          "base_uri": "https://localhost:8080/",
          "height": 602
        },
        "id": "CfImOCOVJxdV",
        "outputId": "d6ddd7d7-67d3-48fc-c402-8bdd1a42d487"
      },
      "source": [
        "evento.events"
      ],
      "execution_count": 199,
      "outputs": [
        {
          "output_type": "execute_result",
          "data": {
            "text/html": [
              "<div>\n",
              "<style scoped>\n",
              "    .dataframe tbody tr th:only-of-type {\n",
              "        vertical-align: middle;\n",
              "    }\n",
              "\n",
              "    .dataframe tbody tr th {\n",
              "        vertical-align: top;\n",
              "    }\n",
              "\n",
              "    .dataframe thead th {\n",
              "        text-align: right;\n",
              "    }\n",
              "</style>\n",
              "<table border=\"1\" class=\"dataframe\">\n",
              "  <thead>\n",
              "    <tr style=\"text-align: right;\">\n",
              "      <th></th>\n",
              "      <th>Unnamed: 0</th>\n",
              "      <th>date</th>\n",
              "      <th>eventid</th>\n",
              "      <th>status</th>\n",
              "      <th>home</th>\n",
              "      <th>away</th>\n",
              "      <th>homescore</th>\n",
              "      <th>awayscore</th>\n",
              "      <th>homecorner</th>\n",
              "      <th>awaycorner</th>\n",
              "      <th>homehalfcorner</th>\n",
              "      <th>awayhalfcorner</th>\n",
              "      <th>leagueid</th>\n",
              "    </tr>\n",
              "  </thead>\n",
              "  <tbody>\n",
              "    <tr>\n",
              "      <th>0</th>\n",
              "      <td>0.0</td>\n",
              "      <td>2021-10-10 02:00:00</td>\n",
              "      <td>108606227</td>\n",
              "      <td>NaN</td>\n",
              "      <td>Atletico Huila</td>\n",
              "      <td>Atletico Nacional</td>\n",
              "      <td>0</td>\n",
              "      <td>0</td>\n",
              "      <td>0</td>\n",
              "      <td>0</td>\n",
              "      <td>0</td>\n",
              "      <td>0</td>\n",
              "      <td>145</td>\n",
              "    </tr>\n",
              "    <tr>\n",
              "      <th>1</th>\n",
              "      <td>1.0</td>\n",
              "      <td>2021-10-10 06:00:00</td>\n",
              "      <td>109015672</td>\n",
              "      <td>NaN</td>\n",
              "      <td>Khukh Chononuud Women</td>\n",
              "      <td>Khad Women</td>\n",
              "      <td>0</td>\n",
              "      <td>0</td>\n",
              "      <td>0</td>\n",
              "      <td>0</td>\n",
              "      <td>0</td>\n",
              "      <td>0</td>\n",
              "      <td>19473</td>\n",
              "    </tr>\n",
              "    <tr>\n",
              "      <th>2</th>\n",
              "      <td>2.0</td>\n",
              "      <td>2021-10-10 04:00:00</td>\n",
              "      <td>109015670</td>\n",
              "      <td>NaN</td>\n",
              "      <td>Shine Yarmag Women</td>\n",
              "      <td>Tuuliin Tom Tulnuud Women</td>\n",
              "      <td>0</td>\n",
              "      <td>0</td>\n",
              "      <td>0</td>\n",
              "      <td>0</td>\n",
              "      <td>0</td>\n",
              "      <td>0</td>\n",
              "      <td>19473</td>\n",
              "    </tr>\n",
              "    <tr>\n",
              "      <th>3</th>\n",
              "      <td>3.0</td>\n",
              "      <td>2021-10-10 02:00:00</td>\n",
              "      <td>109015662</td>\n",
              "      <td>NaN</td>\n",
              "      <td>UBC FC Women</td>\n",
              "      <td>Mongoliin Temuulel Women</td>\n",
              "      <td>0</td>\n",
              "      <td>0</td>\n",
              "      <td>0</td>\n",
              "      <td>0</td>\n",
              "      <td>0</td>\n",
              "      <td>0</td>\n",
              "      <td>19473</td>\n",
              "    </tr>\n",
              "    <tr>\n",
              "      <th>4</th>\n",
              "      <td>4.0</td>\n",
              "      <td>2021-10-10 05:00:00</td>\n",
              "      <td>108991238</td>\n",
              "      <td>NaN</td>\n",
              "      <td>FC Osaka</td>\n",
              "      <td>Sony Sendai</td>\n",
              "      <td>0</td>\n",
              "      <td>0</td>\n",
              "      <td>0</td>\n",
              "      <td>0</td>\n",
              "      <td>0</td>\n",
              "      <td>0</td>\n",
              "      <td>422</td>\n",
              "    </tr>\n",
              "    <tr>\n",
              "      <th>...</th>\n",
              "      <td>...</td>\n",
              "      <td>...</td>\n",
              "      <td>...</td>\n",
              "      <td>...</td>\n",
              "      <td>...</td>\n",
              "      <td>...</td>\n",
              "      <td>...</td>\n",
              "      <td>...</td>\n",
              "      <td>...</td>\n",
              "      <td>...</td>\n",
              "      <td>...</td>\n",
              "      <td>...</td>\n",
              "      <td>...</td>\n",
              "    </tr>\n",
              "    <tr>\n",
              "      <th>155</th>\n",
              "      <td>NaN</td>\n",
              "      <td>2021-11-05 15:00:00</td>\n",
              "      <td>95135907</td>\n",
              "      <td>Full</td>\n",
              "      <td>Colchagua CD</td>\n",
              "      <td>Lautaro de Buin</td>\n",
              "      <td>0</td>\n",
              "      <td>2</td>\n",
              "      <td>4</td>\n",
              "      <td>4</td>\n",
              "      <td>3</td>\n",
              "      <td>3</td>\n",
              "      <td>255</td>\n",
              "    </tr>\n",
              "    <tr>\n",
              "      <th>156</th>\n",
              "      <td>NaN</td>\n",
              "      <td>2021-11-02 15:00:00</td>\n",
              "      <td>95026750</td>\n",
              "      <td>Full</td>\n",
              "      <td>Deportes Vallenar</td>\n",
              "      <td>AC Colina</td>\n",
              "      <td>3</td>\n",
              "      <td>2</td>\n",
              "      <td>2</td>\n",
              "      <td>6</td>\n",
              "      <td>1</td>\n",
              "      <td>3</td>\n",
              "      <td>255</td>\n",
              "    </tr>\n",
              "    <tr>\n",
              "      <th>157</th>\n",
              "      <td>NaN</td>\n",
              "      <td>2021-11-01 15:00:00</td>\n",
              "      <td>95000377</td>\n",
              "      <td>Full</td>\n",
              "      <td>San Antonio Unido</td>\n",
              "      <td>Iberia</td>\n",
              "      <td>1</td>\n",
              "      <td>6</td>\n",
              "      <td>7</td>\n",
              "      <td>8</td>\n",
              "      <td>6</td>\n",
              "      <td>2</td>\n",
              "      <td>255</td>\n",
              "    </tr>\n",
              "    <tr>\n",
              "      <th>158</th>\n",
              "      <td>NaN</td>\n",
              "      <td>2021-11-01 15:00:00</td>\n",
              "      <td>95000375</td>\n",
              "      <td>Full</td>\n",
              "      <td>Lautaro de Buin</td>\n",
              "      <td>Deportes Concepcion</td>\n",
              "      <td>2</td>\n",
              "      <td>1</td>\n",
              "      <td>3</td>\n",
              "      <td>5</td>\n",
              "      <td>2</td>\n",
              "      <td>2</td>\n",
              "      <td>255</td>\n",
              "    </tr>\n",
              "    <tr>\n",
              "      <th>159</th>\n",
              "      <td>NaN</td>\n",
              "      <td>2021-11-01 15:00:00</td>\n",
              "      <td>95000373</td>\n",
              "      <td>Full</td>\n",
              "      <td>Deportes Linares</td>\n",
              "      <td>CCD Fernandez Vial</td>\n",
              "      <td>1</td>\n",
              "      <td>5</td>\n",
              "      <td>2</td>\n",
              "      <td>11</td>\n",
              "      <td>1</td>\n",
              "      <td>8</td>\n",
              "      <td>255</td>\n",
              "    </tr>\n",
              "  </tbody>\n",
              "</table>\n",
              "<p>36961 rows × 13 columns</p>\n",
              "</div>"
            ],
            "text/plain": [
              "     Unnamed: 0                 date  ... awayhalfcorner leagueid\n",
              "0           0.0  2021-10-10 02:00:00  ...              0      145\n",
              "1           1.0  2021-10-10 06:00:00  ...              0    19473\n",
              "2           2.0  2021-10-10 04:00:00  ...              0    19473\n",
              "3           3.0  2021-10-10 02:00:00  ...              0    19473\n",
              "4           4.0  2021-10-10 05:00:00  ...              0      422\n",
              "..          ...                  ...  ...            ...      ...\n",
              "155         NaN  2021-11-05 15:00:00  ...              3      255\n",
              "156         NaN  2021-11-02 15:00:00  ...              3      255\n",
              "157         NaN  2021-11-01 15:00:00  ...              2      255\n",
              "158         NaN  2021-11-01 15:00:00  ...              2      255\n",
              "159         NaN  2021-11-01 15:00:00  ...              8      255\n",
              "\n",
              "[36961 rows x 13 columns]"
            ]
          },
          "metadata": {},
          "execution_count": 199
        }
      ]
    },
    {
      "cell_type": "code",
      "metadata": {
        "colab": {
          "base_uri": "https://localhost:8080/",
          "height": 357
        },
        "id": "ci_Cd-pvfH8r",
        "outputId": "5f587c38-ce14-4c15-8fb9-0a8f15d76c87"
      },
      "source": [
        "evento.events[(evento.events.status=='Full') & (evento.events['home']=='FC Osaka')]"
      ],
      "execution_count": 205,
      "outputs": [
        {
          "output_type": "execute_result",
          "data": {
            "text/html": [
              "<div>\n",
              "<style scoped>\n",
              "    .dataframe tbody tr th:only-of-type {\n",
              "        vertical-align: middle;\n",
              "    }\n",
              "\n",
              "    .dataframe tbody tr th {\n",
              "        vertical-align: top;\n",
              "    }\n",
              "\n",
              "    .dataframe thead th {\n",
              "        text-align: right;\n",
              "    }\n",
              "</style>\n",
              "<table border=\"1\" class=\"dataframe\">\n",
              "  <thead>\n",
              "    <tr style=\"text-align: right;\">\n",
              "      <th></th>\n",
              "      <th>date</th>\n",
              "      <th>eventid</th>\n",
              "      <th>status</th>\n",
              "      <th>home</th>\n",
              "      <th>away</th>\n",
              "      <th>homescore</th>\n",
              "      <th>awayscore</th>\n",
              "      <th>homecorner</th>\n",
              "      <th>awaycorner</th>\n",
              "      <th>homehalfcorner</th>\n",
              "      <th>awayhalfcorner</th>\n",
              "      <th>leagueid</th>\n",
              "    </tr>\n",
              "  </thead>\n",
              "  <tbody>\n",
              "    <tr>\n",
              "      <th>27</th>\n",
              "      <td>2021-09-05 05:56:00</td>\n",
              "      <td>372964944</td>\n",
              "      <td>Full</td>\n",
              "      <td>FC Osaka</td>\n",
              "      <td>Honda FC</td>\n",
              "      <td>1</td>\n",
              "      <td>2</td>\n",
              "      <td>5</td>\n",
              "      <td>8</td>\n",
              "      <td>3</td>\n",
              "      <td>2</td>\n",
              "      <td>422</td>\n",
              "    </tr>\n",
              "    <tr>\n",
              "      <th>4399</th>\n",
              "      <td>2021-07-25 06:00:00</td>\n",
              "      <td>105613406</td>\n",
              "      <td>Full</td>\n",
              "      <td>FC Osaka</td>\n",
              "      <td>Tokyo Musashino City FC</td>\n",
              "      <td>0</td>\n",
              "      <td>2</td>\n",
              "      <td>7</td>\n",
              "      <td>7</td>\n",
              "      <td>3</td>\n",
              "      <td>2</td>\n",
              "      <td>422</td>\n",
              "    </tr>\n",
              "    <tr>\n",
              "      <th>4409</th>\n",
              "      <td>2021-07-11 06:00:00</td>\n",
              "      <td>104991284</td>\n",
              "      <td>Full</td>\n",
              "      <td>FC Osaka</td>\n",
              "      <td>Veertien Mie</td>\n",
              "      <td>1</td>\n",
              "      <td>1</td>\n",
              "      <td>7</td>\n",
              "      <td>6</td>\n",
              "      <td>2</td>\n",
              "      <td>4</td>\n",
              "      <td>422</td>\n",
              "    </tr>\n",
              "    <tr>\n",
              "      <th>4417</th>\n",
              "      <td>2021-06-27 05:00:00</td>\n",
              "      <td>104395827</td>\n",
              "      <td>Full</td>\n",
              "      <td>FC Osaka</td>\n",
              "      <td>Nara Club</td>\n",
              "      <td>1</td>\n",
              "      <td>1</td>\n",
              "      <td>6</td>\n",
              "      <td>2</td>\n",
              "      <td>4</td>\n",
              "      <td>0</td>\n",
              "      <td>422</td>\n",
              "    </tr>\n",
              "    <tr>\n",
              "      <th>4460</th>\n",
              "      <td>2021-04-24 05:00:00</td>\n",
              "      <td>101703879</td>\n",
              "      <td>Full</td>\n",
              "      <td>FC Osaka</td>\n",
              "      <td>Iwaki SC</td>\n",
              "      <td>1</td>\n",
              "      <td>1</td>\n",
              "      <td>8</td>\n",
              "      <td>9</td>\n",
              "      <td>2</td>\n",
              "      <td>4</td>\n",
              "      <td>422</td>\n",
              "    </tr>\n",
              "    <tr>\n",
              "      <th>4472</th>\n",
              "      <td>2021-03-27 04:00:00</td>\n",
              "      <td>100500609</td>\n",
              "      <td>Full</td>\n",
              "      <td>FC Osaka</td>\n",
              "      <td>Reinmeer Aomori</td>\n",
              "      <td>1</td>\n",
              "      <td>0</td>\n",
              "      <td>10</td>\n",
              "      <td>1</td>\n",
              "      <td>5</td>\n",
              "      <td>1</td>\n",
              "      <td>422</td>\n",
              "    </tr>\n",
              "    <tr>\n",
              "      <th>4479</th>\n",
              "      <td>2021-03-14 04:00:00</td>\n",
              "      <td>99951047</td>\n",
              "      <td>Full</td>\n",
              "      <td>FC Osaka</td>\n",
              "      <td>Kariya</td>\n",
              "      <td>3</td>\n",
              "      <td>0</td>\n",
              "      <td>12</td>\n",
              "      <td>1</td>\n",
              "      <td>8</td>\n",
              "      <td>0</td>\n",
              "      <td>422</td>\n",
              "    </tr>\n",
              "    <tr>\n",
              "      <th>4486</th>\n",
              "      <td>2021-11-22 04:00:00</td>\n",
              "      <td>95740312</td>\n",
              "      <td>Full</td>\n",
              "      <td>FC Osaka</td>\n",
              "      <td>Nara Club</td>\n",
              "      <td>2</td>\n",
              "      <td>1</td>\n",
              "      <td>8</td>\n",
              "      <td>3</td>\n",
              "      <td>4</td>\n",
              "      <td>0</td>\n",
              "      <td>422</td>\n",
              "    </tr>\n",
              "    <tr>\n",
              "      <th>4494</th>\n",
              "      <td>2021-11-14 04:00:00</td>\n",
              "      <td>95473756</td>\n",
              "      <td>Full</td>\n",
              "      <td>FC Osaka</td>\n",
              "      <td>Kochi United</td>\n",
              "      <td>0</td>\n",
              "      <td>2</td>\n",
              "      <td>8</td>\n",
              "      <td>3</td>\n",
              "      <td>1</td>\n",
              "      <td>1</td>\n",
              "      <td>422</td>\n",
              "    </tr>\n",
              "    <tr>\n",
              "      <th>4511</th>\n",
              "      <td>2021-10-03 05:00:00</td>\n",
              "      <td>93881015</td>\n",
              "      <td>Full</td>\n",
              "      <td>FC Osaka</td>\n",
              "      <td>Maruyasu Okazaki</td>\n",
              "      <td>0</td>\n",
              "      <td>0</td>\n",
              "      <td>5</td>\n",
              "      <td>4</td>\n",
              "      <td>0</td>\n",
              "      <td>2</td>\n",
              "      <td>422</td>\n",
              "    </tr>\n",
              "  </tbody>\n",
              "</table>\n",
              "</div>"
            ],
            "text/plain": [
              "                     date    eventid  ... awayhalfcorner leagueid\n",
              "27    2021-09-05 05:56:00  372964944  ...              2      422\n",
              "4399  2021-07-25 06:00:00  105613406  ...              2      422\n",
              "4409  2021-07-11 06:00:00  104991284  ...              4      422\n",
              "4417  2021-06-27 05:00:00  104395827  ...              0      422\n",
              "4460  2021-04-24 05:00:00  101703879  ...              4      422\n",
              "4472  2021-03-27 04:00:00  100500609  ...              1      422\n",
              "4479  2021-03-14 04:00:00   99951047  ...              0      422\n",
              "4486  2021-11-22 04:00:00   95740312  ...              0      422\n",
              "4494  2021-11-14 04:00:00   95473756  ...              1      422\n",
              "4511  2021-10-03 05:00:00   93881015  ...              2      422\n",
              "\n",
              "[10 rows x 12 columns]"
            ]
          },
          "metadata": {},
          "execution_count": 205
        }
      ]
    },
    {
      "cell_type": "code",
      "metadata": {
        "id": "4hkR5u-cC_i6"
      },
      "source": [
        "evento.events = evento.events[evento.events.columns.drop(['Unnamed: 0'])]\n",
        "\n",
        "#evento.events.columns.drop (['Unnamed: 0','Unnamed: 0.1'])      "
      ],
      "execution_count": 204,
      "outputs": []
    },
    {
      "cell_type": "code",
      "metadata": {
        "colab": {
          "base_uri": "https://localhost:8080/"
        },
        "id": "ZFiJA_kkJBjI",
        "outputId": "60b056c4-2f50-45a3-f479-dbe5b8b38f08"
      },
      "source": [
        "Mandante = evento.events[evento.events['home']=='AC Milan (zohan) Esports']\n",
        "Visitante = evento.events[evento.events['away']=='AC Milan (zohan) Esports']\n",
        "\n",
        "Todos = pd.DataFrame(Mandante)\n",
        "\n",
        "Todos= Todos.append(Visitante)\n",
        "\n",
        "#Todos.set_index('date', inplace=True)\n",
        "\n",
        "\n",
        "#df = pd.concat(pd.Series(Mandante), pd.Series(Visitante), Axis=1)\n",
        "print(Todos)\n",
        "#Todos = pd.concat(Mandante,Visitante)\n",
        "\n"
      ],
      "execution_count": 200,
      "outputs": [
        {
          "output_type": "stream",
          "name": "stdout",
          "text": [
            "Empty DataFrame\n",
            "Columns: [Unnamed: 0, date, eventid, status, home, away, homescore, awayscore, homecorner, awaycorner, homehalfcorner, awayhalfcorner, leagueid]\n",
            "Index: []\n"
          ]
        }
      ]
    },
    {
      "cell_type": "code",
      "metadata": {
        "id": "juD1veeg5KpX"
      },
      "source": [
        "\n",
        "#evento.events.drop(index=0)\n",
        "evento.save()\n",
        "##evento.events.drop(events.columns[[1]], axis=1)"
      ],
      "execution_count": 189,
      "outputs": []
    },
    {
      "cell_type": "code",
      "metadata": {
        "id": "O9fqy6zGJ_WT",
        "colab": {
          "base_uri": "https://localhost:8080/"
        },
        "outputId": "34628a98-c783-4477-ca0a-3e8a7c12f10d"
      },
      "source": [
        "import sys\n",
        "\n",
        "rows = []\n",
        "events =pd.DataFrame(rows,columns = columns)\n",
        "\n",
        "list_leagues = Lista_eventos ()\n",
        "\n",
        "    \n",
        "    clear_output()\n",
        "    print(events.tail(1))"
      ],
      "execution_count": 9,
      "outputs": [
        {
          "output_type": "stream",
          "name": "stdout",
          "text": [
            "                    date    eventid  ... awayhalfcorner leagueid\n",
            "1478 2021-09-20 19:00:00  108209611  ...              1    17914\n",
            "\n",
            "[1 rows x 12 columns]\n"
          ]
        }
      ]
    },
    {
      "cell_type": "code",
      "metadata": {
        "id": "6RfMENAve-1W"
      },
      "source": [
        "events[(events['status']!='Full') & (events['date']<='2021-10-10')]"
      ],
      "execution_count": null,
      "outputs": []
    },
    {
      "cell_type": "code",
      "metadata": {
        "colab": {
          "base_uri": "https://localhost:8080/",
          "height": 229
        },
        "id": "f5V1SuS1fGxU",
        "outputId": "2559b7f8-0811-4923-e83d-7f957f062655"
      },
      "source": [
        "list_leagues = Lista_eventos ()\n",
        "\n",
        "for leagueid in list_leagues:\n",
        "    rows = []\n",
        "\n",
        "    for page in range (1,3):\n",
        "      ano = 2021\n",
        "      mes_inicio = 5\n",
        "      Get_events(rows, leagueid, page)\n",
        "\n",
        "    events =events.append(pd.DataFrame(rows,columns = columns), ignore_index=True)\n",
        "\n",
        "    events = events.drop_duplicates(subset=['eventid'], keep='last')\n",
        "\n",
        "    #events.to_excel('eventos.xlsx')\n",
        "    from IPython.display import clear_output\n",
        "    \n",
        "    clear_output()\n",
        "    print(events.tail(1))"
      ],
      "execution_count": 7,
      "outputs": [
        {
          "output_type": "error",
          "ename": "NameError",
          "evalue": "ignored",
          "traceback": [
            "\u001b[0;31m---------------------------------------------------------------------------\u001b[0m",
            "\u001b[0;31mNameError\u001b[0m                                 Traceback (most recent call last)",
            "\u001b[0;32m<ipython-input-7-37f86cd9812b>\u001b[0m in \u001b[0;36m<module>\u001b[0;34m()\u001b[0m\n\u001b[0;32m----> 1\u001b[0;31m \u001b[0mlist_leagues\u001b[0m \u001b[0;34m=\u001b[0m \u001b[0mLista_eventos\u001b[0m \u001b[0;34m(\u001b[0m\u001b[0;34m)\u001b[0m\u001b[0;34m\u001b[0m\u001b[0;34m\u001b[0m\u001b[0m\n\u001b[0m\u001b[1;32m      2\u001b[0m \u001b[0;34m\u001b[0m\u001b[0m\n\u001b[1;32m      3\u001b[0m \u001b[0;32mfor\u001b[0m \u001b[0mleagueid\u001b[0m \u001b[0;32min\u001b[0m \u001b[0mlist_leagues\u001b[0m\u001b[0;34m:\u001b[0m\u001b[0;34m\u001b[0m\u001b[0;34m\u001b[0m\u001b[0m\n\u001b[1;32m      4\u001b[0m     \u001b[0mrows\u001b[0m \u001b[0;34m=\u001b[0m \u001b[0;34m[\u001b[0m\u001b[0;34m]\u001b[0m\u001b[0;34m\u001b[0m\u001b[0;34m\u001b[0m\u001b[0m\n\u001b[1;32m      5\u001b[0m \u001b[0;34m\u001b[0m\u001b[0m\n",
            "\u001b[0;31mNameError\u001b[0m: name 'Lista_eventos' is not defined"
          ]
        }
      ]
    },
    {
      "cell_type": "code",
      "metadata": {
        "colab": {
          "base_uri": "https://localhost:8080/"
        },
        "id": "MI4-MIaerzxV",
        "outputId": "adbc5339-e95a-4a67-8f2b-1fb6f97ed20a"
      },
      "source": [
        "len(events)"
      ],
      "execution_count": null,
      "outputs": [
        {
          "output_type": "execute_result",
          "data": {
            "text/plain": [
              "1740"
            ]
          },
          "metadata": {},
          "execution_count": 82
        }
      ]
    },
    {
      "cell_type": "code",
      "metadata": {
        "colab": {
          "base_uri": "https://localhost:8080/"
        },
        "id": "MLXxvCXp2jmF",
        "outputId": "46aab37a-a661-49a6-a0fd-f84b4e1f09f7"
      },
      "source": [
        "events[events['eventid']=='102144999'].count()[1]"
      ],
      "execution_count": null,
      "outputs": [
        {
          "output_type": "execute_result",
          "data": {
            "text/plain": [
              "1"
            ]
          },
          "metadata": {},
          "execution_count": 90
        }
      ]
    },
    {
      "cell_type": "code",
      "metadata": {
        "id": "YMRNBSnCr2Lw"
      },
      "source": [
        "events.drop(events.columns[0], axis=1, inplace=True)"
      ],
      "execution_count": null,
      "outputs": []
    },
    {
      "cell_type": "code",
      "metadata": {
        "id": "6EwA06gmr2Q-"
      },
      "source": [
        "list_leagues=events[events['status']!='Full']['leagueid']"
      ],
      "execution_count": null,
      "outputs": []
    },
    {
      "cell_type": "code",
      "metadata": {
        "colab": {
          "base_uri": "https://localhost:8080/",
          "height": 345
        },
        "id": "DvWvcv29r2Uy",
        "outputId": "c11e2145-cd84-41c9-8b91-ad93de74f4e0"
      },
      "source": [
        "events[events['date']>'01/01/2021']"
      ],
      "execution_count": null,
      "outputs": [
        {
          "output_type": "error",
          "ename": "TypeError",
          "evalue": "ignored",
          "traceback": [
            "\u001b[0;31m---------------------------------------------------------------------------\u001b[0m",
            "\u001b[0;31mTypeError\u001b[0m                                 Traceback (most recent call last)",
            "\u001b[0;32m<ipython-input-130-d4e3001bddf9>\u001b[0m in \u001b[0;36m<module>\u001b[0;34m()\u001b[0m\n\u001b[0;32m----> 1\u001b[0;31m \u001b[0mevents\u001b[0m\u001b[0;34m[\u001b[0m\u001b[0mevents\u001b[0m\u001b[0;34m[\u001b[0m\u001b[0;34m'date'\u001b[0m\u001b[0;34m]\u001b[0m\u001b[0;34m>\u001b[0m\u001b[0;34m'01/01/2021'\u001b[0m\u001b[0;34m]\u001b[0m\u001b[0;34m\u001b[0m\u001b[0;34m\u001b[0m\u001b[0m\n\u001b[0m",
            "\u001b[0;32m/usr/local/lib/python3.7/dist-packages/pandas/core/ops/common.py\u001b[0m in \u001b[0;36mnew_method\u001b[0;34m(self, other)\u001b[0m\n\u001b[1;32m     63\u001b[0m         \u001b[0mother\u001b[0m \u001b[0;34m=\u001b[0m \u001b[0mitem_from_zerodim\u001b[0m\u001b[0;34m(\u001b[0m\u001b[0mother\u001b[0m\u001b[0;34m)\u001b[0m\u001b[0;34m\u001b[0m\u001b[0;34m\u001b[0m\u001b[0m\n\u001b[1;32m     64\u001b[0m \u001b[0;34m\u001b[0m\u001b[0m\n\u001b[0;32m---> 65\u001b[0;31m         \u001b[0;32mreturn\u001b[0m \u001b[0mmethod\u001b[0m\u001b[0;34m(\u001b[0m\u001b[0mself\u001b[0m\u001b[0;34m,\u001b[0m \u001b[0mother\u001b[0m\u001b[0;34m)\u001b[0m\u001b[0;34m\u001b[0m\u001b[0;34m\u001b[0m\u001b[0m\n\u001b[0m\u001b[1;32m     66\u001b[0m \u001b[0;34m\u001b[0m\u001b[0m\n\u001b[1;32m     67\u001b[0m     \u001b[0;32mreturn\u001b[0m \u001b[0mnew_method\u001b[0m\u001b[0;34m\u001b[0m\u001b[0;34m\u001b[0m\u001b[0m\n",
            "\u001b[0;32m/usr/local/lib/python3.7/dist-packages/pandas/core/ops/__init__.py\u001b[0m in \u001b[0;36mwrapper\u001b[0;34m(self, other)\u001b[0m\n\u001b[1;32m    368\u001b[0m         \u001b[0mrvalues\u001b[0m \u001b[0;34m=\u001b[0m \u001b[0mextract_array\u001b[0m\u001b[0;34m(\u001b[0m\u001b[0mother\u001b[0m\u001b[0;34m,\u001b[0m \u001b[0mextract_numpy\u001b[0m\u001b[0;34m=\u001b[0m\u001b[0;32mTrue\u001b[0m\u001b[0;34m)\u001b[0m\u001b[0;34m\u001b[0m\u001b[0;34m\u001b[0m\u001b[0m\n\u001b[1;32m    369\u001b[0m \u001b[0;34m\u001b[0m\u001b[0m\n\u001b[0;32m--> 370\u001b[0;31m         \u001b[0mres_values\u001b[0m \u001b[0;34m=\u001b[0m \u001b[0mcomparison_op\u001b[0m\u001b[0;34m(\u001b[0m\u001b[0mlvalues\u001b[0m\u001b[0;34m,\u001b[0m \u001b[0mrvalues\u001b[0m\u001b[0;34m,\u001b[0m \u001b[0mop\u001b[0m\u001b[0;34m)\u001b[0m\u001b[0;34m\u001b[0m\u001b[0;34m\u001b[0m\u001b[0m\n\u001b[0m\u001b[1;32m    371\u001b[0m \u001b[0;34m\u001b[0m\u001b[0m\n\u001b[1;32m    372\u001b[0m         \u001b[0;32mreturn\u001b[0m \u001b[0mself\u001b[0m\u001b[0;34m.\u001b[0m\u001b[0m_construct_result\u001b[0m\u001b[0;34m(\u001b[0m\u001b[0mres_values\u001b[0m\u001b[0;34m,\u001b[0m \u001b[0mname\u001b[0m\u001b[0;34m=\u001b[0m\u001b[0mres_name\u001b[0m\u001b[0;34m)\u001b[0m\u001b[0;34m\u001b[0m\u001b[0;34m\u001b[0m\u001b[0m\n",
            "\u001b[0;32m/usr/local/lib/python3.7/dist-packages/pandas/core/ops/array_ops.py\u001b[0m in \u001b[0;36mcomparison_op\u001b[0;34m(left, right, op)\u001b[0m\n\u001b[1;32m    242\u001b[0m \u001b[0;34m\u001b[0m\u001b[0m\n\u001b[1;32m    243\u001b[0m     \u001b[0;32melif\u001b[0m \u001b[0mis_object_dtype\u001b[0m\u001b[0;34m(\u001b[0m\u001b[0mlvalues\u001b[0m\u001b[0;34m.\u001b[0m\u001b[0mdtype\u001b[0m\u001b[0;34m)\u001b[0m\u001b[0;34m:\u001b[0m\u001b[0;34m\u001b[0m\u001b[0;34m\u001b[0m\u001b[0m\n\u001b[0;32m--> 244\u001b[0;31m         \u001b[0mres_values\u001b[0m \u001b[0;34m=\u001b[0m \u001b[0mcomp_method_OBJECT_ARRAY\u001b[0m\u001b[0;34m(\u001b[0m\u001b[0mop\u001b[0m\u001b[0;34m,\u001b[0m \u001b[0mlvalues\u001b[0m\u001b[0;34m,\u001b[0m \u001b[0mrvalues\u001b[0m\u001b[0;34m)\u001b[0m\u001b[0;34m\u001b[0m\u001b[0;34m\u001b[0m\u001b[0m\n\u001b[0m\u001b[1;32m    245\u001b[0m \u001b[0;34m\u001b[0m\u001b[0m\n\u001b[1;32m    246\u001b[0m     \u001b[0;32melse\u001b[0m\u001b[0;34m:\u001b[0m\u001b[0;34m\u001b[0m\u001b[0;34m\u001b[0m\u001b[0m\n",
            "\u001b[0;32m/usr/local/lib/python3.7/dist-packages/pandas/core/ops/array_ops.py\u001b[0m in \u001b[0;36mcomp_method_OBJECT_ARRAY\u001b[0;34m(op, x, y)\u001b[0m\n\u001b[1;32m     54\u001b[0m         \u001b[0mresult\u001b[0m \u001b[0;34m=\u001b[0m \u001b[0mlibops\u001b[0m\u001b[0;34m.\u001b[0m\u001b[0mvec_compare\u001b[0m\u001b[0;34m(\u001b[0m\u001b[0mx\u001b[0m\u001b[0;34m.\u001b[0m\u001b[0mravel\u001b[0m\u001b[0;34m(\u001b[0m\u001b[0;34m)\u001b[0m\u001b[0;34m,\u001b[0m \u001b[0my\u001b[0m\u001b[0;34m.\u001b[0m\u001b[0mravel\u001b[0m\u001b[0;34m(\u001b[0m\u001b[0;34m)\u001b[0m\u001b[0;34m,\u001b[0m \u001b[0mop\u001b[0m\u001b[0;34m)\u001b[0m\u001b[0;34m\u001b[0m\u001b[0;34m\u001b[0m\u001b[0m\n\u001b[1;32m     55\u001b[0m     \u001b[0;32melse\u001b[0m\u001b[0;34m:\u001b[0m\u001b[0;34m\u001b[0m\u001b[0;34m\u001b[0m\u001b[0m\n\u001b[0;32m---> 56\u001b[0;31m         \u001b[0mresult\u001b[0m \u001b[0;34m=\u001b[0m \u001b[0mlibops\u001b[0m\u001b[0;34m.\u001b[0m\u001b[0mscalar_compare\u001b[0m\u001b[0;34m(\u001b[0m\u001b[0mx\u001b[0m\u001b[0;34m.\u001b[0m\u001b[0mravel\u001b[0m\u001b[0;34m(\u001b[0m\u001b[0;34m)\u001b[0m\u001b[0;34m,\u001b[0m \u001b[0my\u001b[0m\u001b[0;34m,\u001b[0m \u001b[0mop\u001b[0m\u001b[0;34m)\u001b[0m\u001b[0;34m\u001b[0m\u001b[0;34m\u001b[0m\u001b[0m\n\u001b[0m\u001b[1;32m     57\u001b[0m     \u001b[0;32mreturn\u001b[0m \u001b[0mresult\u001b[0m\u001b[0;34m.\u001b[0m\u001b[0mreshape\u001b[0m\u001b[0;34m(\u001b[0m\u001b[0mx\u001b[0m\u001b[0;34m.\u001b[0m\u001b[0mshape\u001b[0m\u001b[0;34m)\u001b[0m\u001b[0;34m\u001b[0m\u001b[0;34m\u001b[0m\u001b[0m\n\u001b[1;32m     58\u001b[0m \u001b[0;34m\u001b[0m\u001b[0m\n",
            "\u001b[0;32mpandas/_libs/ops.pyx\u001b[0m in \u001b[0;36mpandas._libs.ops.scalar_compare\u001b[0;34m()\u001b[0m\n",
            "\u001b[0;31mTypeError\u001b[0m: '>' not supported between instances of 'datetime.datetime' and 'str'"
          ]
        }
      ]
    },
    {
      "cell_type": "code",
      "metadata": {
        "id": "nAL2TRoX2u5V"
      },
      "source": [
        "events['eventid'] = events['eventid'] .str.lstrip()"
      ],
      "execution_count": null,
      "outputs": []
    },
    {
      "cell_type": "code",
      "metadata": {
        "colab": {
          "base_uri": "https://localhost:8080/",
          "height": 47
        },
        "id": "Amu6D3UWa1j9",
        "outputId": "a0ee9bc5-ecbc-420f-8682-b2d66a37c375"
      },
      "source": [
        "eventsactive\n",
        "#print()\n",
        "#events"
      ],
      "execution_count": null,
      "outputs": [
        {
          "output_type": "execute_result",
          "data": {
            "text/html": [
              "<div>\n",
              "<style scoped>\n",
              "    .dataframe tbody tr th:only-of-type {\n",
              "        vertical-align: middle;\n",
              "    }\n",
              "\n",
              "    .dataframe tbody tr th {\n",
              "        vertical-align: top;\n",
              "    }\n",
              "\n",
              "    .dataframe thead th {\n",
              "        text-align: right;\n",
              "    }\n",
              "</style>\n",
              "<table border=\"1\" class=\"dataframe\">\n",
              "  <thead>\n",
              "    <tr style=\"text-align: right;\">\n",
              "      <th></th>\n",
              "      <th>date</th>\n",
              "      <th>eventid</th>\n",
              "      <th>status</th>\n",
              "      <th>home</th>\n",
              "      <th>away</th>\n",
              "      <th>homescore</th>\n",
              "      <th>awayscore</th>\n",
              "      <th>homecorner</th>\n",
              "      <th>awaycorner</th>\n",
              "      <th>homehalfcorner</th>\n",
              "      <th>awayhalfcorner</th>\n",
              "      <th>leagueid</th>\n",
              "    </tr>\n",
              "  </thead>\n",
              "  <tbody>\n",
              "  </tbody>\n",
              "</table>\n",
              "</div>"
            ],
            "text/plain": [
              "Empty DataFrame\n",
              "Columns: [date, eventid, status, home, away, homescore, awayscore, homecorner, awaycorner, homehalfcorner, awayhalfcorner, leagueid]\n",
              "Index: []"
            ]
          },
          "metadata": {
            "tags": []
          },
          "execution_count": 14
        }
      ]
    },
    {
      "cell_type": "code",
      "metadata": {
        "colab": {
          "base_uri": "https://localhost:8080/",
          "height": 48
        },
        "id": "zqedb4a4-DME",
        "outputId": "40a83d11-f7bd-4288-97b9-240e26e36828"
      },
      "source": [
        "events[events['leagueid']==13321]"
      ],
      "execution_count": null,
      "outputs": [
        {
          "output_type": "execute_result",
          "data": {
            "text/html": [
              "<div>\n",
              "<style scoped>\n",
              "    .dataframe tbody tr th:only-of-type {\n",
              "        vertical-align: middle;\n",
              "    }\n",
              "\n",
              "    .dataframe tbody tr th {\n",
              "        vertical-align: top;\n",
              "    }\n",
              "\n",
              "    .dataframe thead th {\n",
              "        text-align: right;\n",
              "    }\n",
              "</style>\n",
              "<table border=\"1\" class=\"dataframe\">\n",
              "  <thead>\n",
              "    <tr style=\"text-align: right;\">\n",
              "      <th></th>\n",
              "      <th>date</th>\n",
              "      <th>eventid</th>\n",
              "      <th>status</th>\n",
              "      <th>home</th>\n",
              "      <th>away</th>\n",
              "      <th>homescore</th>\n",
              "      <th>awayscore</th>\n",
              "      <th>homecorner</th>\n",
              "      <th>awaycorner</th>\n",
              "      <th>homehalfcorner</th>\n",
              "      <th>awayhalfcorner</th>\n",
              "      <th>leagueid</th>\n",
              "    </tr>\n",
              "  </thead>\n",
              "  <tbody>\n",
              "  </tbody>\n",
              "</table>\n",
              "</div>"
            ],
            "text/plain": [
              "Empty DataFrame\n",
              "Columns: [date, eventid, status, home, away, homescore, awayscore, homecorner, awaycorner, homehalfcorner, awayhalfcorner, leagueid]\n",
              "Index: []"
            ]
          },
          "metadata": {
            "tags": []
          },
          "execution_count": 131
        }
      ]
    },
    {
      "cell_type": "code",
      "metadata": {
        "id": "R_LIHjBpZsP_"
      },
      "source": [
        "events.drop(events.columns[0], axis=1, inplace=True)"
      ],
      "execution_count": null,
      "outputs": []
    },
    {
      "cell_type": "code",
      "metadata": {
        "id": "Vcgl8_TUaC5u"
      },
      "source": [
        "events.set_index(['date'], drop=False, inplace=True)"
      ],
      "execution_count": null,
      "outputs": []
    },
    {
      "cell_type": "code",
      "metadata": {
        "id": "HXNXmYlg0RR7"
      },
      "source": [
        "https://www.totalcorner.com/league/view/150\n",
        "https://www.totalcorner.com/league/view/852"
      ],
      "execution_count": null,
      "outputs": []
    },
    {
      "cell_type": "code",
      "metadata": {
        "id": "FinHaeuhsUxp"
      },
      "source": [
        "odds = getodds(eventid)\n",
        "odds = odds.replace(np.nan, 0)\n",
        "results = []\n",
        "for item in odds['Score'].unique():\n",
        "    m = int(odds[odds['Score'] == item].iloc[-1]['Minute'])\n",
        "    w = round(odds[odds['Score'] == item].iloc[-1]['Win'],2)\n",
        "    d = round(odds[odds['Score'] == item].iloc[-1]['Draw'],2)\n",
        "    l = round(odds[odds['Score'] == item].iloc[-1]['Lose'],2)\n",
        "    results = results.append([m, w, d, l])\n"
      ],
      "execution_count": null,
      "outputs": []
    },
    {
      "cell_type": "code",
      "metadata": {
        "id": "STtdW71X1mmi",
        "colab": {
          "base_uri": "https://localhost:8080/"
        },
        "outputId": "46def622-6f24-41df-e09d-1253b3c782c2"
      },
      "source": [
        "print(events[events['homescore']>events['awayscore']].count())\n",
        "print(events[events['homescore']==events['awayscore']].count())\n",
        "print(events[events['homescore']<events['awayscore']].count())"
      ],
      "execution_count": null,
      "outputs": [
        {
          "output_type": "stream",
          "text": [
            "date              2285\n",
            "eventid           2285\n",
            "status            2285\n",
            "home              2285\n",
            "away              2285\n",
            "homescore         2285\n",
            "awayscore         2285\n",
            "homecorner        2285\n",
            "awaycorner        2285\n",
            "homehalfcorner    2285\n",
            "awayhalfcorner    2285\n",
            "leagueid          2285\n",
            "dtype: int64\n",
            "date              1166\n",
            "eventid           1166\n",
            "status            1166\n",
            "home              1166\n",
            "away              1166\n",
            "homescore         1166\n",
            "awayscore         1166\n",
            "homecorner        1166\n",
            "awaycorner        1166\n",
            "homehalfcorner    1166\n",
            "awayhalfcorner    1166\n",
            "leagueid          1166\n",
            "dtype: int64\n",
            "date              1152\n",
            "eventid           1152\n",
            "status            1152\n",
            "home              1152\n",
            "away              1152\n",
            "homescore         1152\n",
            "awayscore         1152\n",
            "homecorner        1152\n",
            "awaycorner        1152\n",
            "homehalfcorner    1152\n",
            "awayhalfcorner    1152\n",
            "leagueid          1152\n",
            "dtype: int64\n"
          ],
          "name": "stdout"
        }
      ]
    },
    {
      "cell_type": "code",
      "metadata": {
        "id": "mxqux6zT7b2d"
      },
      "source": [
        "events =events['date'].dropna(how='all')"
      ],
      "execution_count": null,
      "outputs": []
    },
    {
      "cell_type": "code",
      "metadata": {
        "id": "gUwso0WAwUKZ"
      },
      "source": [
        "events = pd.read_excel('eventos.xlsx')"
      ],
      "execution_count": null,
      "outputs": []
    },
    {
      "cell_type": "code",
      "metadata": {
        "id": "k4zWBVZcWraH",
        "colab": {
          "base_uri": "https://localhost:8080/",
          "height": 790
        },
        "outputId": "6783dc9f-bed5-450f-bd15-11a61d8f12e1"
      },
      "source": [
        "events"
      ],
      "execution_count": null,
      "outputs": [
        {
          "output_type": "execute_result",
          "data": {
            "text/html": [
              "<div>\n",
              "<style scoped>\n",
              "    .dataframe tbody tr th:only-of-type {\n",
              "        vertical-align: middle;\n",
              "    }\n",
              "\n",
              "    .dataframe tbody tr th {\n",
              "        vertical-align: top;\n",
              "    }\n",
              "\n",
              "    .dataframe thead th {\n",
              "        text-align: right;\n",
              "    }\n",
              "</style>\n",
              "<table border=\"1\" class=\"dataframe\">\n",
              "  <thead>\n",
              "    <tr style=\"text-align: right;\">\n",
              "      <th></th>\n",
              "      <th>date</th>\n",
              "      <th>eventid</th>\n",
              "      <th>status</th>\n",
              "      <th>home</th>\n",
              "      <th>away</th>\n",
              "      <th>homescore</th>\n",
              "      <th>awayscore</th>\n",
              "      <th>homecorner</th>\n",
              "      <th>awaycorner</th>\n",
              "      <th>homehalfcorner</th>\n",
              "      <th>awayhalfcorner</th>\n",
              "      <th>leagueid</th>\n",
              "      <th>HomePoints</th>\n",
              "      <th>AwayPoints</th>\n",
              "    </tr>\n",
              "  </thead>\n",
              "  <tbody>\n",
              "    <tr>\n",
              "      <th>0</th>\n",
              "      <td>2021-08-31 01:30:00</td>\n",
              "      <td>106736074</td>\n",
              "      <td></td>\n",
              "      <td>Fortaleza FC</td>\n",
              "      <td>Cuiaba</td>\n",
              "      <td>0</td>\n",
              "      <td>0</td>\n",
              "      <td>0</td>\n",
              "      <td>0</td>\n",
              "      <td>0</td>\n",
              "      <td>0</td>\n",
              "      <td>129</td>\n",
              "      <td>1</td>\n",
              "      <td>1</td>\n",
              "    </tr>\n",
              "    <tr>\n",
              "      <th>1</th>\n",
              "      <td>2021-08-30 23:00:00</td>\n",
              "      <td>106736090</td>\n",
              "      <td></td>\n",
              "      <td>Fluminense</td>\n",
              "      <td>EC Bahia</td>\n",
              "      <td>0</td>\n",
              "      <td>0</td>\n",
              "      <td>0</td>\n",
              "      <td>0</td>\n",
              "      <td>0</td>\n",
              "      <td>0</td>\n",
              "      <td>129</td>\n",
              "      <td>1</td>\n",
              "      <td>1</td>\n",
              "    </tr>\n",
              "    <tr>\n",
              "      <th>2</th>\n",
              "      <td>2021-08-30 00:30:00</td>\n",
              "      <td>106736093</td>\n",
              "      <td>11 '</td>\n",
              "      <td>Bragantino</td>\n",
              "      <td>Atletico Mineiro</td>\n",
              "      <td>0</td>\n",
              "      <td>0</td>\n",
              "      <td>0</td>\n",
              "      <td>2</td>\n",
              "      <td>0</td>\n",
              "      <td>2</td>\n",
              "      <td>129</td>\n",
              "      <td>1</td>\n",
              "      <td>1</td>\n",
              "    </tr>\n",
              "    <tr>\n",
              "      <th>3</th>\n",
              "      <td>2021-08-29 22:15:00</td>\n",
              "      <td>106736100</td>\n",
              "      <td>Full</td>\n",
              "      <td>Atletico Goianiense</td>\n",
              "      <td>Internacional</td>\n",
              "      <td>0</td>\n",
              "      <td>0</td>\n",
              "      <td>6</td>\n",
              "      <td>6</td>\n",
              "      <td>5</td>\n",
              "      <td>1</td>\n",
              "      <td>129</td>\n",
              "      <td>1</td>\n",
              "      <td>1</td>\n",
              "    </tr>\n",
              "    <tr>\n",
              "      <th>4</th>\n",
              "      <td>2021-08-29 20:00:00</td>\n",
              "      <td>106736083</td>\n",
              "      <td>Full</td>\n",
              "      <td>EC Juventude</td>\n",
              "      <td>Sao Paulo</td>\n",
              "      <td>1</td>\n",
              "      <td>1</td>\n",
              "      <td>3</td>\n",
              "      <td>8</td>\n",
              "      <td>1</td>\n",
              "      <td>3</td>\n",
              "      <td>129</td>\n",
              "      <td>1</td>\n",
              "      <td>1</td>\n",
              "    </tr>\n",
              "    <tr>\n",
              "      <th>...</th>\n",
              "      <td>...</td>\n",
              "      <td>...</td>\n",
              "      <td>...</td>\n",
              "      <td>...</td>\n",
              "      <td>...</td>\n",
              "      <td>...</td>\n",
              "      <td>...</td>\n",
              "      <td>...</td>\n",
              "      <td>...</td>\n",
              "      <td>...</td>\n",
              "      <td>...</td>\n",
              "      <td>...</td>\n",
              "      <td>...</td>\n",
              "      <td>...</td>\n",
              "    </tr>\n",
              "    <tr>\n",
              "      <th>1735</th>\n",
              "      <td>2021-05-16 23:00:00</td>\n",
              "      <td>102695381</td>\n",
              "      <td>Full</td>\n",
              "      <td>Orlando Pride Women</td>\n",
              "      <td>Washington Spirit Women</td>\n",
              "      <td>1</td>\n",
              "      <td>1</td>\n",
              "      <td>7</td>\n",
              "      <td>5</td>\n",
              "      <td>3</td>\n",
              "      <td>2</td>\n",
              "      <td>1264</td>\n",
              "      <td>1</td>\n",
              "      <td>1</td>\n",
              "    </tr>\n",
              "    <tr>\n",
              "      <th>1736</th>\n",
              "      <td>2021-05-16 03:00:00</td>\n",
              "      <td>102631034</td>\n",
              "      <td>Full</td>\n",
              "      <td>Reign FC Women</td>\n",
              "      <td>North Carolina Courage Women</td>\n",
              "      <td>0</td>\n",
              "      <td>0</td>\n",
              "      <td>2</td>\n",
              "      <td>9</td>\n",
              "      <td>2</td>\n",
              "      <td>3</td>\n",
              "      <td>1264</td>\n",
              "      <td>1</td>\n",
              "      <td>1</td>\n",
              "    </tr>\n",
              "    <tr>\n",
              "      <th>1737</th>\n",
              "      <td>2021-05-16 00:00:00</td>\n",
              "      <td>102651168</td>\n",
              "      <td>Full</td>\n",
              "      <td>NJ/NY Gotham FC Women</td>\n",
              "      <td>Houston Dash Women</td>\n",
              "      <td>1</td>\n",
              "      <td>0</td>\n",
              "      <td>2</td>\n",
              "      <td>6</td>\n",
              "      <td>1</td>\n",
              "      <td>5</td>\n",
              "      <td>1264</td>\n",
              "      <td>3</td>\n",
              "      <td>0</td>\n",
              "    </tr>\n",
              "    <tr>\n",
              "      <th>1738</th>\n",
              "      <td>2021-05-15 22:00:00</td>\n",
              "      <td>102644767</td>\n",
              "      <td>Full</td>\n",
              "      <td>Racing Louisville FC Women</td>\n",
              "      <td>FC Kansas City Women</td>\n",
              "      <td>0</td>\n",
              "      <td>0</td>\n",
              "      <td>7</td>\n",
              "      <td>1</td>\n",
              "      <td>2</td>\n",
              "      <td>1</td>\n",
              "      <td>1264</td>\n",
              "      <td>1</td>\n",
              "      <td>1</td>\n",
              "    </tr>\n",
              "    <tr>\n",
              "      <th>1739</th>\n",
              "      <td>2021-05-04 01:00:00</td>\n",
              "      <td>102144999</td>\n",
              "      <td>Full</td>\n",
              "      <td>FC Kansas City Women</td>\n",
              "      <td>Reign FC Women</td>\n",
              "      <td>1</td>\n",
              "      <td>2</td>\n",
              "      <td>5</td>\n",
              "      <td>8</td>\n",
              "      <td>2</td>\n",
              "      <td>2</td>\n",
              "      <td>1264</td>\n",
              "      <td>0</td>\n",
              "      <td>3</td>\n",
              "    </tr>\n",
              "  </tbody>\n",
              "</table>\n",
              "<p>1740 rows × 14 columns</p>\n",
              "</div>"
            ],
            "text/plain": [
              "                    date    eventid status  ... leagueid HomePoints AwayPoints\n",
              "0    2021-08-31 01:30:00  106736074         ...      129          1          1\n",
              "1    2021-08-30 23:00:00  106736090         ...      129          1          1\n",
              "2    2021-08-30 00:30:00  106736093   11 '  ...      129          1          1\n",
              "3    2021-08-29 22:15:00  106736100   Full  ...      129          1          1\n",
              "4    2021-08-29 20:00:00  106736083   Full  ...      129          1          1\n",
              "...                  ...        ...    ...  ...      ...        ...        ...\n",
              "1735 2021-05-16 23:00:00  102695381   Full  ...     1264          1          1\n",
              "1736 2021-05-16 03:00:00  102631034   Full  ...     1264          1          1\n",
              "1737 2021-05-16 00:00:00  102651168   Full  ...     1264          3          0\n",
              "1738 2021-05-15 22:00:00  102644767   Full  ...     1264          1          1\n",
              "1739 2021-05-04 01:00:00  102144999   Full  ...     1264          0          3\n",
              "\n",
              "[1740 rows x 14 columns]"
            ]
          },
          "metadata": {},
          "execution_count": 88
        }
      ]
    },
    {
      "cell_type": "code",
      "metadata": {
        "colab": {
          "base_uri": "https://localhost:8080/",
          "height": 69
        },
        "id": "6cpGqmkdsVLA",
        "outputId": "8c31a680-5aa9-4569-8c30-4b01f536cb75"
      },
      "source": [
        "events[events['away']=='Napoli (Yoshi) Esports']"
      ],
      "execution_count": null,
      "outputs": [
        {
          "output_type": "execute_result",
          "data": {
            "text/html": [
              "<div>\n",
              "<style scoped>\n",
              "    .dataframe tbody tr th:only-of-type {\n",
              "        vertical-align: middle;\n",
              "    }\n",
              "\n",
              "    .dataframe tbody tr th {\n",
              "        vertical-align: top;\n",
              "    }\n",
              "\n",
              "    .dataframe thead th {\n",
              "        text-align: right;\n",
              "    }\n",
              "</style>\n",
              "<table border=\"1\" class=\"dataframe\">\n",
              "  <thead>\n",
              "    <tr style=\"text-align: right;\">\n",
              "      <th></th>\n",
              "      <th>date</th>\n",
              "      <th>eventid</th>\n",
              "      <th>status</th>\n",
              "      <th>home</th>\n",
              "      <th>away</th>\n",
              "      <th>homescore</th>\n",
              "      <th>awayscore</th>\n",
              "      <th>homecorner</th>\n",
              "      <th>awaycorner</th>\n",
              "      <th>homehalfcorner</th>\n",
              "      <th>awayhalfcorner</th>\n",
              "      <th>leagueid</th>\n",
              "    </tr>\n",
              "  </thead>\n",
              "  <tbody>\n",
              "  </tbody>\n",
              "</table>\n",
              "</div>"
            ],
            "text/plain": [
              "Empty DataFrame\n",
              "Columns: [date, eventid, status, home, away, homescore, awayscore, homecorner, awaycorner, homehalfcorner, awayhalfcorner, leagueid]\n",
              "Index: []"
            ]
          },
          "metadata": {},
          "execution_count": 86
        }
      ]
    },
    {
      "cell_type": "code",
      "metadata": {
        "id": "8kRtbfjWW6iH"
      },
      "source": [
        "events['HomePoints'] = np.where(events['homescore']>events['awayscore'],3, np.where(events['homescore']==events['awayscore'],1,0))\n",
        "events['AwayPoints'] = np.where(events['homescore']<events['awayscore'],3, np.where(events['homescore']==events['awayscore'],1,0))"
      ],
      "execution_count": null,
      "outputs": []
    },
    {
      "cell_type": "code",
      "metadata": {
        "id": "BMlboZniYg40"
      },
      "source": [
        "for index, row in events.iterrows():\n",
        "    HSUM = events[(events['home']==row[\"home\"])]['HomePoints'].sum()+events[(events['away']==row[\"home\"])]['AwayPoints'].sum()\n",
        "    ASUM = events[(events['home']==row[\"away\"])]['HomePoints'].sum()+events[(events['away']==row[\"away\"])]['AwayPoints'].sum()\n",
        "    print(HSUM, ASUM, row[\"home\"], row[\"away\"], row[\"homescore\"],row[\"awayscore\"])\n",
        "    print()\n",
        "    #if index >100: break"
      ],
      "execution_count": null,
      "outputs": []
    },
    {
      "cell_type": "code",
      "metadata": {
        "colab": {
          "base_uri": "https://localhost:8080/",
          "height": 1000
        },
        "id": "aQ4-Ys0kX-Ml",
        "outputId": "1ecfa588-8a86-4ade-d5fc-605999d5eddf"
      },
      "source": [
        "#select = events[(events['home'].str.contains('Flamengo', case = False) & events['away'].str.contains('Fluminense', case = False) )]\n",
        "\n",
        "select = events[events['leagueid']==85]\n",
        "select.groupby(['leagueid','homescore','awayscore']).sum()\n",
        "\n"
      ],
      "execution_count": null,
      "outputs": [
        {
          "output_type": "execute_result",
          "data": {
            "text/html": [
              "<div>\n",
              "<style scoped>\n",
              "    .dataframe tbody tr th:only-of-type {\n",
              "        vertical-align: middle;\n",
              "    }\n",
              "\n",
              "    .dataframe tbody tr th {\n",
              "        vertical-align: top;\n",
              "    }\n",
              "\n",
              "    .dataframe thead th {\n",
              "        text-align: right;\n",
              "    }\n",
              "</style>\n",
              "<table border=\"1\" class=\"dataframe\">\n",
              "  <thead>\n",
              "    <tr style=\"text-align: right;\">\n",
              "      <th></th>\n",
              "      <th></th>\n",
              "      <th></th>\n",
              "      <th>HomePoints</th>\n",
              "      <th>AwayPoints</th>\n",
              "    </tr>\n",
              "    <tr>\n",
              "      <th>leagueid</th>\n",
              "      <th>homescore</th>\n",
              "      <th>awayscore</th>\n",
              "      <th></th>\n",
              "      <th></th>\n",
              "    </tr>\n",
              "  </thead>\n",
              "  <tbody>\n",
              "    <tr>\n",
              "      <th rowspan=\"46\" valign=\"top\">85</th>\n",
              "      <th rowspan=\"8\" valign=\"top\">0</th>\n",
              "      <th>0</th>\n",
              "      <td>144</td>\n",
              "      <td>144</td>\n",
              "    </tr>\n",
              "    <tr>\n",
              "      <th>1</th>\n",
              "      <td>0</td>\n",
              "      <td>378</td>\n",
              "    </tr>\n",
              "    <tr>\n",
              "      <th>2</th>\n",
              "      <td>0</td>\n",
              "      <td>261</td>\n",
              "    </tr>\n",
              "    <tr>\n",
              "      <th>3</th>\n",
              "      <td>0</td>\n",
              "      <td>87</td>\n",
              "    </tr>\n",
              "    <tr>\n",
              "      <th>4</th>\n",
              "      <td>0</td>\n",
              "      <td>30</td>\n",
              "    </tr>\n",
              "    <tr>\n",
              "      <th>5</th>\n",
              "      <td>0</td>\n",
              "      <td>12</td>\n",
              "    </tr>\n",
              "    <tr>\n",
              "      <th>6</th>\n",
              "      <td>0</td>\n",
              "      <td>3</td>\n",
              "    </tr>\n",
              "    <tr>\n",
              "      <th>7</th>\n",
              "      <td>0</td>\n",
              "      <td>3</td>\n",
              "    </tr>\n",
              "    <tr>\n",
              "      <th rowspan=\"7\" valign=\"top\">1</th>\n",
              "      <th>0</th>\n",
              "      <td>666</td>\n",
              "      <td>0</td>\n",
              "    </tr>\n",
              "    <tr>\n",
              "      <th>1</th>\n",
              "      <td>233</td>\n",
              "      <td>233</td>\n",
              "    </tr>\n",
              "    <tr>\n",
              "      <th>2</th>\n",
              "      <td>0</td>\n",
              "      <td>384</td>\n",
              "    </tr>\n",
              "    <tr>\n",
              "      <th>3</th>\n",
              "      <td>0</td>\n",
              "      <td>186</td>\n",
              "    </tr>\n",
              "    <tr>\n",
              "      <th>4</th>\n",
              "      <td>0</td>\n",
              "      <td>48</td>\n",
              "    </tr>\n",
              "    <tr>\n",
              "      <th>5</th>\n",
              "      <td>0</td>\n",
              "      <td>15</td>\n",
              "    </tr>\n",
              "    <tr>\n",
              "      <th>6</th>\n",
              "      <td>0</td>\n",
              "      <td>6</td>\n",
              "    </tr>\n",
              "    <tr>\n",
              "      <th rowspan=\"7\" valign=\"top\">2</th>\n",
              "      <th>0</th>\n",
              "      <td>546</td>\n",
              "      <td>0</td>\n",
              "    </tr>\n",
              "    <tr>\n",
              "      <th>1</th>\n",
              "      <td>807</td>\n",
              "      <td>0</td>\n",
              "    </tr>\n",
              "    <tr>\n",
              "      <th>2</th>\n",
              "      <td>146</td>\n",
              "      <td>146</td>\n",
              "    </tr>\n",
              "    <tr>\n",
              "      <th>3</th>\n",
              "      <td>0</td>\n",
              "      <td>144</td>\n",
              "    </tr>\n",
              "    <tr>\n",
              "      <th>4</th>\n",
              "      <td>0</td>\n",
              "      <td>30</td>\n",
              "    </tr>\n",
              "    <tr>\n",
              "      <th>5</th>\n",
              "      <td>0</td>\n",
              "      <td>12</td>\n",
              "    </tr>\n",
              "    <tr>\n",
              "      <th>6</th>\n",
              "      <td>0</td>\n",
              "      <td>3</td>\n",
              "    </tr>\n",
              "    <tr>\n",
              "      <th rowspan=\"7\" valign=\"top\">3</th>\n",
              "      <th>0</th>\n",
              "      <td>366</td>\n",
              "      <td>0</td>\n",
              "    </tr>\n",
              "    <tr>\n",
              "      <th>1</th>\n",
              "      <td>363</td>\n",
              "      <td>0</td>\n",
              "    </tr>\n",
              "    <tr>\n",
              "      <th>2</th>\n",
              "      <td>267</td>\n",
              "      <td>0</td>\n",
              "    </tr>\n",
              "    <tr>\n",
              "      <th>3</th>\n",
              "      <td>33</td>\n",
              "      <td>33</td>\n",
              "    </tr>\n",
              "    <tr>\n",
              "      <th>4</th>\n",
              "      <td>0</td>\n",
              "      <td>24</td>\n",
              "    </tr>\n",
              "    <tr>\n",
              "      <th>5</th>\n",
              "      <td>0</td>\n",
              "      <td>6</td>\n",
              "    </tr>\n",
              "    <tr>\n",
              "      <th>6</th>\n",
              "      <td>0</td>\n",
              "      <td>3</td>\n",
              "    </tr>\n",
              "    <tr>\n",
              "      <th rowspan=\"5\" valign=\"top\">4</th>\n",
              "      <th>0</th>\n",
              "      <td>162</td>\n",
              "      <td>0</td>\n",
              "    </tr>\n",
              "    <tr>\n",
              "      <th>1</th>\n",
              "      <td>180</td>\n",
              "      <td>0</td>\n",
              "    </tr>\n",
              "    <tr>\n",
              "      <th>2</th>\n",
              "      <td>90</td>\n",
              "      <td>0</td>\n",
              "    </tr>\n",
              "    <tr>\n",
              "      <th>3</th>\n",
              "      <td>51</td>\n",
              "      <td>0</td>\n",
              "    </tr>\n",
              "    <tr>\n",
              "      <th>4</th>\n",
              "      <td>6</td>\n",
              "      <td>6</td>\n",
              "    </tr>\n",
              "    <tr>\n",
              "      <th rowspan=\"4\" valign=\"top\">5</th>\n",
              "      <th>0</th>\n",
              "      <td>45</td>\n",
              "      <td>0</td>\n",
              "    </tr>\n",
              "    <tr>\n",
              "      <th>1</th>\n",
              "      <td>54</td>\n",
              "      <td>0</td>\n",
              "    </tr>\n",
              "    <tr>\n",
              "      <th>2</th>\n",
              "      <td>24</td>\n",
              "      <td>0</td>\n",
              "    </tr>\n",
              "    <tr>\n",
              "      <th>3</th>\n",
              "      <td>9</td>\n",
              "      <td>0</td>\n",
              "    </tr>\n",
              "    <tr>\n",
              "      <th rowspan=\"5\" valign=\"top\">6</th>\n",
              "      <th>0</th>\n",
              "      <td>9</td>\n",
              "      <td>0</td>\n",
              "    </tr>\n",
              "    <tr>\n",
              "      <th>1</th>\n",
              "      <td>12</td>\n",
              "      <td>0</td>\n",
              "    </tr>\n",
              "    <tr>\n",
              "      <th>2</th>\n",
              "      <td>9</td>\n",
              "      <td>0</td>\n",
              "    </tr>\n",
              "    <tr>\n",
              "      <th>3</th>\n",
              "      <td>3</td>\n",
              "      <td>0</td>\n",
              "    </tr>\n",
              "    <tr>\n",
              "      <th>4</th>\n",
              "      <td>3</td>\n",
              "      <td>0</td>\n",
              "    </tr>\n",
              "    <tr>\n",
              "      <th rowspan=\"3\" valign=\"top\">7</th>\n",
              "      <th>0</th>\n",
              "      <td>3</td>\n",
              "      <td>0</td>\n",
              "    </tr>\n",
              "    <tr>\n",
              "      <th>1</th>\n",
              "      <td>9</td>\n",
              "      <td>0</td>\n",
              "    </tr>\n",
              "    <tr>\n",
              "      <th>2</th>\n",
              "      <td>3</td>\n",
              "      <td>0</td>\n",
              "    </tr>\n",
              "  </tbody>\n",
              "</table>\n",
              "</div>"
            ],
            "text/plain": [
              "                              HomePoints  AwayPoints\n",
              "leagueid homescore awayscore                        \n",
              "85       0         0                 144         144\n",
              "                   1                   0         378\n",
              "                   2                   0         261\n",
              "                   3                   0          87\n",
              "                   4                   0          30\n",
              "                   5                   0          12\n",
              "                   6                   0           3\n",
              "                   7                   0           3\n",
              "         1         0                 666           0\n",
              "                   1                 233         233\n",
              "                   2                   0         384\n",
              "                   3                   0         186\n",
              "                   4                   0          48\n",
              "                   5                   0          15\n",
              "                   6                   0           6\n",
              "         2         0                 546           0\n",
              "                   1                 807           0\n",
              "                   2                 146         146\n",
              "                   3                   0         144\n",
              "                   4                   0          30\n",
              "                   5                   0          12\n",
              "                   6                   0           3\n",
              "         3         0                 366           0\n",
              "                   1                 363           0\n",
              "                   2                 267           0\n",
              "                   3                  33          33\n",
              "                   4                   0          24\n",
              "                   5                   0           6\n",
              "                   6                   0           3\n",
              "         4         0                 162           0\n",
              "                   1                 180           0\n",
              "                   2                  90           0\n",
              "                   3                  51           0\n",
              "                   4                   6           6\n",
              "         5         0                  45           0\n",
              "                   1                  54           0\n",
              "                   2                  24           0\n",
              "                   3                   9           0\n",
              "         6         0                   9           0\n",
              "                   1                  12           0\n",
              "                   2                   9           0\n",
              "                   3                   3           0\n",
              "                   4                   3           0\n",
              "         7         0                   3           0\n",
              "                   1                   9           0\n",
              "                   2                   3           0"
            ]
          },
          "metadata": {
            "tags": []
          },
          "execution_count": 153
        }
      ]
    },
    {
      "cell_type": "code",
      "metadata": {
        "id": "cE2BBsepSE5x"
      },
      "source": [
        "def getodds (eventid):\n",
        "\n",
        "    #odds_full = soup.find_all('table', {'id':['odds_full']})\n",
        "    #odds_half = soup.find_all('table', {'id':['odds_half']})\n",
        "    #goals_full = soup.find_all('table', {'id':['goals_full']})\n",
        "    #goals_half = soup.find_all('table', {'id':['goals_half']})\n",
        "    #corners_full = soup.find_all('table', {'id':['corners_full']})\n",
        "    #corners_half = soup.find_all('table', {'id':['corners_half']})\n",
        "    df = pd.DataFrame()\n",
        "\n",
        "    res = requests.get('https://www.totalcorner.com/match/odds-handicap/{}'.format(eventid))\n",
        "    soup = BeautifulSoup(res.content,'lxml')\n",
        "    table = soup.find_all('table', {'id':['odds_full']})\n",
        "    if len(table)>0:\n",
        "      print(eventid)\n",
        "      df = pd.DataFrame(pd.read_html(str(table))[0])\n",
        "      df.columns= ['Minute', 'Score', 'Win', 'Draw', 'Lose','Time']\n",
        "      df['Minute']= df['Minute'].str.replace(\"'\",\"\")\n",
        "      #df = df.dropna()\n",
        "      #df.iloc[-1]\n",
        "    return df"
      ],
      "execution_count": 16,
      "outputs": []
    },
    {
      "cell_type": "code",
      "metadata": {
        "colab": {
          "base_uri": "https://localhost:8080/",
          "height": 528
        },
        "id": "QzMi_e-lwsVE",
        "outputId": "9de4ba36-a6d0-4971-dfe9-ee7852ed1207"
      },
      "source": [
        "#events['oddsfull']\n",
        "#events['oddsfull']= getodds(events['eventid'])\n",
        "getodds(1866046121)\n"
      ],
      "execution_count": 17,
      "outputs": [
        {
          "output_type": "stream",
          "name": "stdout",
          "text": [
            "1866046121\n"
          ]
        },
        {
          "output_type": "execute_result",
          "data": {
            "text/html": [
              "<div>\n",
              "<style scoped>\n",
              "    .dataframe tbody tr th:only-of-type {\n",
              "        vertical-align: middle;\n",
              "    }\n",
              "\n",
              "    .dataframe tbody tr th {\n",
              "        vertical-align: top;\n",
              "    }\n",
              "\n",
              "    .dataframe thead th {\n",
              "        text-align: right;\n",
              "    }\n",
              "</style>\n",
              "<table border=\"1\" class=\"dataframe\">\n",
              "  <thead>\n",
              "    <tr style=\"text-align: right;\">\n",
              "      <th></th>\n",
              "      <th>Minute</th>\n",
              "      <th>Score</th>\n",
              "      <th>Win</th>\n",
              "      <th>Draw</th>\n",
              "      <th>Lose</th>\n",
              "      <th>Time</th>\n",
              "    </tr>\n",
              "  </thead>\n",
              "  <tbody>\n",
              "    <tr>\n",
              "      <th>0</th>\n",
              "      <td>05</td>\n",
              "      <td>4 - 0</td>\n",
              "      <td>1.007</td>\n",
              "      <td>29.00</td>\n",
              "      <td>29.000</td>\n",
              "      <td>04-17 03:30</td>\n",
              "    </tr>\n",
              "    <tr>\n",
              "      <th>1</th>\n",
              "      <td>05</td>\n",
              "      <td>4 - 0</td>\n",
              "      <td>1.008</td>\n",
              "      <td>26.00</td>\n",
              "      <td>26.000</td>\n",
              "      <td>04-17 03:30</td>\n",
              "    </tr>\n",
              "    <tr>\n",
              "      <th>2</th>\n",
              "      <td>half</td>\n",
              "      <td>4 - 0</td>\n",
              "      <td>1.010</td>\n",
              "      <td>26.00</td>\n",
              "      <td>26.000</td>\n",
              "      <td>04-17 03:29</td>\n",
              "    </tr>\n",
              "    <tr>\n",
              "      <th>3</th>\n",
              "      <td>04</td>\n",
              "      <td>4 - 0</td>\n",
              "      <td>1.013</td>\n",
              "      <td>23.00</td>\n",
              "      <td>23.000</td>\n",
              "      <td>04-17 03:29</td>\n",
              "    </tr>\n",
              "    <tr>\n",
              "      <th>4</th>\n",
              "      <td>04</td>\n",
              "      <td>4 - 0</td>\n",
              "      <td>1.015</td>\n",
              "      <td>21.00</td>\n",
              "      <td>21.000</td>\n",
              "      <td>04-17 03:28</td>\n",
              "    </tr>\n",
              "    <tr>\n",
              "      <th>5</th>\n",
              "      <td>03</td>\n",
              "      <td>3 - 0</td>\n",
              "      <td>1.045</td>\n",
              "      <td>11.00</td>\n",
              "      <td>15.000</td>\n",
              "      <td>04-17 03:28</td>\n",
              "    </tr>\n",
              "    <tr>\n",
              "      <th>6</th>\n",
              "      <td>03</td>\n",
              "      <td>3 - 0</td>\n",
              "      <td>1.050</td>\n",
              "      <td>11.00</td>\n",
              "      <td>15.000</td>\n",
              "      <td>04-17 03:27</td>\n",
              "    </tr>\n",
              "    <tr>\n",
              "      <th>7</th>\n",
              "      <td>03</td>\n",
              "      <td>2 - 0</td>\n",
              "      <td>1.167</td>\n",
              "      <td>7.50</td>\n",
              "      <td>9.000</td>\n",
              "      <td>04-17 03:27</td>\n",
              "    </tr>\n",
              "    <tr>\n",
              "      <th>8</th>\n",
              "      <td>02</td>\n",
              "      <td>2 - 0</td>\n",
              "      <td>1.167</td>\n",
              "      <td>7.50</td>\n",
              "      <td>8.500</td>\n",
              "      <td>04-17 03:27</td>\n",
              "    </tr>\n",
              "    <tr>\n",
              "      <th>9</th>\n",
              "      <td>02</td>\n",
              "      <td>2 - 0</td>\n",
              "      <td>1.182</td>\n",
              "      <td>7.50</td>\n",
              "      <td>8.500</td>\n",
              "      <td>04-17 03:26</td>\n",
              "    </tr>\n",
              "    <tr>\n",
              "      <th>10</th>\n",
              "      <td>01</td>\n",
              "      <td>1 - 0</td>\n",
              "      <td>1.533</td>\n",
              "      <td>5.00</td>\n",
              "      <td>4.333</td>\n",
              "      <td>04-17 03:26</td>\n",
              "    </tr>\n",
              "    <tr>\n",
              "      <th>11</th>\n",
              "      <td>01</td>\n",
              "      <td>0 - 0</td>\n",
              "      <td>2.200</td>\n",
              "      <td>4.75</td>\n",
              "      <td>2.375</td>\n",
              "      <td>04-17 03:26</td>\n",
              "    </tr>\n",
              "    <tr>\n",
              "      <th>12</th>\n",
              "      <td>01</td>\n",
              "      <td>0 - 0</td>\n",
              "      <td>2.200</td>\n",
              "      <td>4.75</td>\n",
              "      <td>2.300</td>\n",
              "      <td>04-17 03:25</td>\n",
              "    </tr>\n",
              "    <tr>\n",
              "      <th>13</th>\n",
              "      <td>00</td>\n",
              "      <td>0 - 0</td>\n",
              "      <td>2.200</td>\n",
              "      <td>5.00</td>\n",
              "      <td>2.300</td>\n",
              "      <td>04-17 03:24</td>\n",
              "    </tr>\n",
              "    <tr>\n",
              "      <th>14</th>\n",
              "      <td>00</td>\n",
              "      <td>0 - 0</td>\n",
              "      <td>2.150</td>\n",
              "      <td>5.00</td>\n",
              "      <td>2.250</td>\n",
              "      <td>04-17 03:24</td>\n",
              "    </tr>\n",
              "  </tbody>\n",
              "</table>\n",
              "</div>"
            ],
            "text/plain": [
              "   Minute  Score    Win   Draw    Lose         Time\n",
              "0     05   4 - 0  1.007  29.00  29.000  04-17 03:30\n",
              "1     05   4 - 0  1.008  26.00  26.000  04-17 03:30\n",
              "2    half  4 - 0  1.010  26.00  26.000  04-17 03:29\n",
              "3     04   4 - 0  1.013  23.00  23.000  04-17 03:29\n",
              "4     04   4 - 0  1.015  21.00  21.000  04-17 03:28\n",
              "5     03   3 - 0  1.045  11.00  15.000  04-17 03:28\n",
              "6     03   3 - 0  1.050  11.00  15.000  04-17 03:27\n",
              "7     03   2 - 0  1.167   7.50   9.000  04-17 03:27\n",
              "8     02   2 - 0  1.167   7.50   8.500  04-17 03:27\n",
              "9     02   2 - 0  1.182   7.50   8.500  04-17 03:26\n",
              "10    01   1 - 0  1.533   5.00   4.333  04-17 03:26\n",
              "11    01   0 - 0  2.200   4.75   2.375  04-17 03:26\n",
              "12    01   0 - 0  2.200   4.75   2.300  04-17 03:25\n",
              "13    00   0 - 0  2.200   5.00   2.300  04-17 03:24\n",
              "14    00   0 - 0  2.150   5.00   2.250  04-17 03:24"
            ]
          },
          "metadata": {},
          "execution_count": 17
        }
      ]
    },
    {
      "cell_type": "code",
      "metadata": {
        "id": "3kHGfsQyPp6S"
      },
      "source": [
        "url ='100441873'\n",
        "res = requests.get('https://www.totalcorner.com/match/odds-handicap/{}'.format(url))\n",
        "soup = BeautifulSoup(res.content,'lxml')\n",
        "table = soup.find_all('table')\n",
        "\n",
        "odds_full = soup.find_all('table', {'id':['odds_full']})\n",
        "odds_half = soup.find_all('table', {'id':['odds_half']})\n",
        "goals_full = soup.find_all('table', {'id':['goals_full']})\n",
        "goals_half = soup.find_all('table', {'id':['goals_half']})\n",
        "corners_full = soup.find_all('table', {'id':['corners_full']})\n",
        "corners_half = soup.find_all('table', {'id':['corners_half']})\n",
        "\n",
        "\n",
        "df = pd.DataFrame()\n",
        "df = df.append(pd.read_html(str(odds_full)))\n",
        "df = df['']\n",
        "df.iloc[-1]\n",
        "\n",
        "matchstatus = td.find_all('td', {'class':['text-center match_status']})\n",
        "  matchstatus = matchstatus[0]\n",
        "  matchstatus = matchstatus.text.strip()\n",
        "\n",
        "  home = td.find_all('td', {'class':['text-right match_home','text-right']})\n",
        "  homeid = home[0].find_all('a', href=True)\n",
        "  homeid = homeid[0]['href']\n",
        "  home = home[0]\n",
        "  home = home.text.strip()\n",
        "  homeid = homeid\n",
        "\n",
        "  score = td.find_all('td', {'class':['text-center match_goal']})\n",
        "  score = score[0].text.split(' - ')\n",
        "  \n",
        "  away = td.find_all('td', {'class':['text-left match_away','text-right']})\n",
        "  awayid = away[0].find_all('a', href=True)\n",
        "  awayid = awayid[0]['href']\n",
        "  away = away[0]\n",
        "  away = away.text.strip()\n",
        "  awayid = awayid\n",
        "\n",
        "  matchcorner = td.find_all('span', {'class':['span_match_corner']})\n",
        "  if len(matchcorner)>0:\n",
        "    matchcorner = matchcorner[0].text.split(' - ')\n",
        "  \n",
        "  halfcorner = td.find_all('span', {'class':['span_half_corner']})\n",
        "  if len(halfcorner)>0:\n",
        "    halfcorner = halfcorner[0].text\n",
        "    halfcorner = halfcorner[halfcorner.find(\"(\")+1:halfcorner.find(\")\")].split('-')\n",
        "  \n",
        "  eventid = ''\n",
        "  #td.find_all('td', {'class':['text-center td_analysis','text-center']})\n",
        "  eventstats = ''\n",
        "  eventodss =''\n",
        "\n",
        "  #if len(eventid)>0:\n",
        "  #  eventid = eventid[0].find_all('a', href=True)\n",
        "  #  eventstats = eventid[0]['href']\n",
        "  #  eventodss = eventid[1]['href']\n",
        "  \n",
        "  #columns = ['league','matchstatus','home','homeid','scorehome','scoreaway','away','awayid','matchcornerhome','matchcorneraway','halfcornerhome','halfcorneraway','eventstats','eventodss']\n",
        "  data = [[league, matchstatus, home, homeid,score[0], score[1], away, awayid, matchcorner[0], matchcorner[1], halfcorner[0], halfcorner[1], eventstats, eventodss]] \n",
        "  print(data)\n",
        "  ## Create the pandas DataFrame \n",
        "  #df = pd.DataFrame(data, columns = columns)   "
      ],
      "execution_count": null,
      "outputs": []
    },
    {
      "cell_type": "code",
      "metadata": {
        "colab": {
          "base_uri": "https://localhost:8080/"
        },
        "id": "zPcd5iiueTbe",
        "outputId": "1763e747-7805-4c48-a7fa-48bba55fc938"
      },
      "source": [
        "!pip3 install MetaTrader5-5.0.34-cp39-cp39-win_amd64.whl"
      ],
      "execution_count": null,
      "outputs": [
        {
          "output_type": "stream",
          "text": [
            "\u001b[33mWARNING: Requirement 'MetaTrader5-5.0.34-cp39-cp39-win_amd64.whl' looks like a filename, but the file does not exist\u001b[0m\n",
            "\u001b[31mERROR: MetaTrader5-5.0.34-cp39-cp39-win_amd64.whl is not a supported wheel on this platform.\u001b[0m\n"
          ],
          "name": "stdout"
        }
      ]
    },
    {
      "cell_type": "code",
      "metadata": {
        "colab": {
          "base_uri": "https://localhost:8080/",
          "height": 128
        },
        "id": "wfmnlCNFe0Xu",
        "outputId": "e6d0f8d6-4947-4935-c649-a9defc2200aa"
      },
      "source": [
        "pip install py -m venv <DIR>"
      ],
      "execution_count": null,
      "outputs": [
        {
          "output_type": "error",
          "ename": "SyntaxError",
          "evalue": "ignored",
          "traceback": [
            "\u001b[0;36m  File \u001b[0;32m\"<ipython-input-26-0bc1749e27cf>\"\u001b[0;36m, line \u001b[0;32m1\u001b[0m\n\u001b[0;31m    py -m <DIR>\u001b[0m\n\u001b[0m               ^\u001b[0m\n\u001b[0;31mSyntaxError\u001b[0m\u001b[0;31m:\u001b[0m invalid syntax\n"
          ]
        }
      ]
    },
    {
      "cell_type": "code",
      "metadata": {
        "colab": {
          "base_uri": "https://localhost:8080/"
        },
        "id": "F8OebJYde9Re",
        "outputId": "4edfa502-5a49-40b0-a53d-cd9f12e4428d"
      },
      "source": [
        "pip install --upgrade MetaTrader5"
      ],
      "execution_count": null,
      "outputs": [
        {
          "output_type": "stream",
          "text": [
            "\u001b[31mERROR: Could not find a version that satisfies the requirement MetaTrader5 (from versions: none)\u001b[0m\n",
            "\u001b[31mERROR: No matching distribution found for MetaTrader5\u001b[0m\n"
          ],
          "name": "stdout"
        }
      ]
    },
    {
      "cell_type": "code",
      "metadata": {
        "colab": {
          "base_uri": "https://localhost:8080/"
        },
        "id": "gAhxIMSwfeHk",
        "outputId": "80d8d65e-97fc-47cf-9156-528d33ddb858"
      },
      "source": [
        "cd Mydrive\n"
      ],
      "execution_count": null,
      "outputs": [
        {
          "output_type": "stream",
          "text": [
            "[Errno 2] No such file or directory: 'Mydrive'\n",
            "/root\n"
          ],
          "name": "stdout"
        }
      ]
    },
    {
      "cell_type": "code",
      "metadata": {
        "colab": {
          "base_uri": "https://localhost:8080/"
        },
        "id": "W7oYMDjgfioq",
        "outputId": "b8e3ed3d-8feb-403d-ddbe-db0daa282235"
      },
      "source": [
        " !pwd "
      ],
      "execution_count": null,
      "outputs": [
        {
          "output_type": "stream",
          "text": [
            "/root\n"
          ],
          "name": "stdout"
        }
      ]
    },
    {
      "cell_type": "code",
      "metadata": {
        "colab": {
          "base_uri": "https://localhost:8080/"
        },
        "id": "2xWNiC0hflBC",
        "outputId": "4202d8b3-e3e8-4fdd-8566-e62ddaf1caf5"
      },
      "source": [
        "cd colab Notebooks\n"
      ],
      "execution_count": null,
      "outputs": [
        {
          "output_type": "stream",
          "text": [
            "[Errno 2] No such file or directory: 'colab Notebooks'\n",
            "/root\n"
          ],
          "name": "stdout"
        }
      ]
    },
    {
      "cell_type": "code",
      "metadata": {
        "colab": {
          "base_uri": "https://localhost:8080/"
        },
        "id": "NpZUdfVDfqH-",
        "outputId": "35327a1f-ca9d-4537-9bed-8837a28af0c9"
      },
      "source": [
        "cd 'drive/My Drive'"
      ],
      "execution_count": null,
      "outputs": [
        {
          "output_type": "stream",
          "text": [
            "[Errno 2] No such file or directory: 'drive/My Drive'\n",
            "/root\n"
          ],
          "name": "stdout"
        }
      ]
    },
    {
      "cell_type": "code",
      "metadata": {
        "colab": {
          "base_uri": "https://localhost:8080/",
          "height": 128
        },
        "id": "pZrY-fQWfzXc",
        "outputId": "d4f984dc-c870-4749-a269-bdaea0799713"
      },
      "source": [
        "md Rafael"
      ],
      "execution_count": null,
      "outputs": [
        {
          "output_type": "error",
          "ename": "SyntaxError",
          "evalue": "ignored",
          "traceback": [
            "\u001b[0;36m  File \u001b[0;32m\"<ipython-input-34-3dd1bb4c706f>\"\u001b[0;36m, line \u001b[0;32m1\u001b[0m\n\u001b[0;31m    md Rafael\u001b[0m\n\u001b[0m            ^\u001b[0m\n\u001b[0;31mSyntaxError\u001b[0m\u001b[0;31m:\u001b[0m invalid syntax\n"
          ]
        }
      ]
    },
    {
      "cell_type": "code",
      "metadata": {
        "colab": {
          "base_uri": "https://localhost:8080/"
        },
        "id": "SFXnGISPgCck",
        "outputId": "520f6360-2b4a-4ea7-e8e6-233de829e1b1"
      },
      "source": [
        "%cd sample_data"
      ],
      "execution_count": null,
      "outputs": [
        {
          "output_type": "stream",
          "text": [
            "[Errno 2] No such file or directory: 'sample_data'\n",
            "/root\n"
          ],
          "name": "stdout"
        }
      ]
    }
  ]
}